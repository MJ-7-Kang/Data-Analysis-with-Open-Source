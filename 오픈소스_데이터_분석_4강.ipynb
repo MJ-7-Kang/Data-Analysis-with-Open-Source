{
  "nbformat": 4,
  "nbformat_minor": 0,
  "metadata": {
    "colab": {
      "provenance": [],
      "include_colab_link": true
    },
    "kernelspec": {
      "name": "python3",
      "display_name": "Python 3"
    },
    "language_info": {
      "name": "python"
    }
  },
  "cells": [
    {
      "cell_type": "markdown",
      "metadata": {
        "id": "view-in-github",
        "colab_type": "text"
      },
      "source": [
        "<a href=\"https://colab.research.google.com/github/MJ-7-Kang/Data-Analysis-with-Open-Source/blob/main/%EC%98%A4%ED%94%88%EC%86%8C%EC%8A%A4_%EB%8D%B0%EC%9D%B4%ED%84%B0_%EB%B6%84%EC%84%9D_4%EA%B0%95.ipynb\" target=\"_parent\"><img src=\"https://colab.research.google.com/assets/colab-badge.svg\" alt=\"Open In Colab\"/></a>"
      ]
    },
    {
      "cell_type": "markdown",
      "source": [
        "\n",
        "\n",
        "# 오픈소스 기반 데이터 분석 4강 - 데이터 수집\n"
      ],
      "metadata": {
        "id": "DkPKaAsoRq5Q"
      }
    },
    {
      "cell_type": "markdown",
      "source": [
        "## 4-1 CSV 파일 읽기"
      ],
      "metadata": {
        "id": "-I7BVVlnRrB0"
      }
    },
    {
      "cell_type": "code",
      "source": [
        "import pandas as pd\n",
        "\n",
        "## data.csv 파일 읽기\n",
        "df=pd.read_csv('data.csv',encoding='utf-8',sep=',',header=0)\n",
        "\n",
        "print(df)"
      ],
      "metadata": {
        "id": "2Y2HEiaiRwAI",
        "colab": {
          "base_uri": "https://localhost:8080/"
        },
        "outputId": "1526c77a-f497-4b99-85a2-d3b2b4b20398"
      },
      "execution_count": null,
      "outputs": [
        {
          "output_type": "stream",
          "name": "stdout",
          "text": [
            "           날짜    체중  골격근량  체지방량\n",
            "0  2025.02.06  64.7  30.0  11.1\n",
            "1  2025.02.04  64.0  29.3  11.6\n"
          ]
        }
      ]
    },
    {
      "cell_type": "markdown",
      "source": [],
      "metadata": {
        "id": "Sr0_wc1psGzt"
      }
    },
    {
      "cell_type": "code",
      "source": [
        "from google.colab import drive\n",
        "drive.mount('/content/drive')"
      ],
      "metadata": {
        "id": "Xd9ehuqmLCM4"
      },
      "execution_count": null,
      "outputs": []
    },
    {
      "cell_type": "code",
      "source": [],
      "metadata": {
        "id": "UwqVwfNcKuWl"
      },
      "execution_count": null,
      "outputs": []
    },
    {
      "cell_type": "markdown",
      "source": [
        "## 4-2 JSON 파일 읽기\n",
        "\n"
      ],
      "metadata": {
        "id": "9kHCFaGlRrE0"
      }
    },
    {
      "cell_type": "code",
      "source": [
        "import json\n",
        "import pandas as pd\n",
        "\n",
        "## data.json 파일 출력\n",
        "with open ('data.json', mode='r',encoding='utf-8') as f:\n",
        "    data=json.load(f)\n",
        "print(data)\n",
        "## data.json 파일 DataFrame 읽기\n",
        "df = pd.read_json ('data.json', orient='records', encoding='utf-8')#, lines=false)\n",
        "\n",
        "print(df)"
      ],
      "metadata": {
        "id": "IO8bsKekR0W_",
        "colab": {
          "base_uri": "https://localhost:8080/"
        },
        "outputId": "01fad8db-6d4a-4e03-e4af-cc0286f9b8d3"
      },
      "execution_count": null,
      "outputs": [
        {
          "output_type": "stream",
          "name": "stdout",
          "text": [
            "{'매출데이터': [{'월': '2025-01', '매출액': 1000000, '비용': 700000, '이익': 300000}, {'월': '2025-02', '매출액': 1200000, '비용': 800000, '이익': 400000}, {'월': '2025-03', '매출액': 1500000, '비용': 900000, '이익': 600000}]}\n",
            "                                               매출데이터\n",
            "0  {'월': '2025-01', '매출액': 1000000, '비용': 700000,...\n",
            "1  {'월': '2025-02', '매출액': 1200000, '비용': 800000,...\n",
            "2  {'월': '2025-03', '매출액': 1500000, '비용': 900000,...\n"
          ]
        }
      ]
    },
    {
      "cell_type": "markdown",
      "source": [
        "## 4-3 텍스트 파일 읽기 및 데이터 추출"
      ],
      "metadata": {
        "id": "uLd_3A_IRrHG"
      }
    },
    {
      "cell_type": "code",
      "source": [
        "import re\n",
        "\n",
        "## 파일(callcenter20250301.log) 오픈 및 읽기\n",
        "with open('callcenter20250301.log', 'r', encoding='utf-8') as f:\n",
        "    content = f.read()\n",
        "\n",
        "## 주민등록번호 패턴 생성\n",
        "pattern = re.compile (r'(\\d{6})-(\\d{7})')\n",
        "\n",
        "## 주민등록번호 마스킹\n",
        "masked_content = pattern.sub (r'\\1-*******', content)\n",
        "\n",
        "## 마스킹된 파일(callcenter20250301_masked.log) 오픈 및 쓰기\n",
        "with open ('callcenter20250301_masked.log.txt', mode='w') as f:\n",
        "    f.write (masked_content)\n",
        "\n",
        "print(\"주민등록번호 마스킹 완료. 'callcenter20250301_masked.log.txt' 파일로 저장되었습니다.\")"
      ],
      "metadata": {
        "id": "60qOf7uxVdAg",
        "colab": {
          "base_uri": "https://localhost:8080/"
        },
        "outputId": "e6dcedda-1bc0-4c9f-f3e6-f61526a1fcc6"
      },
      "execution_count": null,
      "outputs": [
        {
          "output_type": "stream",
          "name": "stdout",
          "text": [
            "주민등록번호 마스킹 완료. 'callcenter20250301_masked.log.txt' 파일로 저장되었습니다.\n"
          ]
        }
      ]
    },
    {
      "cell_type": "markdown",
      "source": [
        "## 4-4 Open-Meteo의 무료 날씨 API를 통한 특정 지역 온도 조회"
      ],
      "metadata": {
        "id": "eOMufu5SXiAU"
      }
    },
    {
      "cell_type": "code",
      "source": [
        "import requests\n",
        "import json\n",
        "\n",
        "url = \"https://api.open-meteo.com/v1/forecast?=&=&current=temperature_2m\"\n",
        "params = {\n",
        "    \"latitude\": \"37.58638333\",\n",
        "    \"longitude\": \"127.0203333\",\n",
        "    \"current\": \"temperature_2m\"\n",
        "}\n",
        "\n",
        "try:\n",
        "    ## URL 및 파라미터 전송\n",
        "    response = requests.get (url, params=params)\n",
        "    response.raise_for_status()\n",
        "\n",
        "    ## JSON 데이터 읽기\n",
        "    data = response.json()\n",
        "\n",
        "    print(\"API 응답:\", data)\n",
        "    print(\"서울시 종로구의 현재 온도는 : {0}{1} 입니다.\".format(data['current']['temperature_2m'], data['current_units']['temperature_2m']))\n",
        "\n",
        "except requests.exceptions.RequestException as e:\n",
        "    print(f\"API 호출 실패: {e}\")\n",
        "except json.JSONDecodeError as e:\n",
        "    print(f\"JSON 파싱 실패: {e}\")"
      ],
      "metadata": {
        "id": "JpmgdsW9V0CY",
        "colab": {
          "base_uri": "https://localhost:8080/"
        },
        "outputId": "6d49bdd9-b60f-4736-b8b0-82fa14149ed1"
      },
      "execution_count": null,
      "outputs": [
        {
          "output_type": "stream",
          "name": "stdout",
          "text": [
            "API 응답: {'latitude': 37.6, 'longitude': 127.0, 'generationtime_ms': 0.03552436828613281, 'utc_offset_seconds': 0, 'timezone': 'GMT', 'timezone_abbreviation': 'GMT', 'elevation': 29.0, 'current_units': {'time': 'iso8601', 'interval': 'seconds', 'temperature_2m': '°C'}, 'current': {'time': '2025-10-09T01:45', 'interval': 900, 'temperature_2m': 19.2}}\n",
            "서울시 종로구의 현재 온도는 : 19.2°C 입니다.\n"
          ]
        }
      ]
    },
    {
      "cell_type": "markdown",
      "source": [
        "## 4-5 Selenium과 lxml을 이용한 웹 스크래핑"
      ],
      "metadata": {
        "id": "RLfPaa1ZiqIC"
      }
    },
    {
      "cell_type": "code",
      "source": [
        "!curl -o google-chrome-stable_current_amd64.deb https://dl.google.com/linux/direct/google-chrome-stable_current_amd64.deb\n",
        "!apt install ./google-chrome-stable_current_amd64.deb -y\n",
        "!pip install selenium webdriver_manager"
      ],
      "metadata": {
        "id": "79dmM7MNk8pB",
        "colab": {
          "base_uri": "https://localhost:8080/"
        },
        "outputId": "e45ce4db-8877-4923-c0dc-489ae43a490b",
        "collapsed": true
      },
      "execution_count": null,
      "outputs": [
        {
          "output_type": "stream",
          "name": "stdout",
          "text": [
            "  % Total    % Received % Xferd  Average Speed   Time    Time     Time  Current\n",
            "                                 Dload  Upload   Total   Spent    Left  Speed\n",
            "100  114M  100  114M    0     0   228M      0 --:--:-- --:--:-- --:--:--  229M\n",
            "Reading package lists... Done\n",
            "Building dependency tree... Done\n",
            "Reading state information... Done\n",
            "Note, selecting 'google-chrome-stable' instead of './google-chrome-stable_current_amd64.deb'\n",
            "The following additional packages will be installed:\n",
            "  libvulkan1 mesa-vulkan-drivers\n",
            "The following NEW packages will be installed:\n",
            "  google-chrome-stable libvulkan1 mesa-vulkan-drivers\n",
            "0 upgraded, 3 newly installed, 0 to remove and 38 not upgraded.\n",
            "Need to get 10.9 MB/131 MB of archives.\n",
            "After this operation, 448 MB of additional disk space will be used.\n",
            "Get:1 http://archive.ubuntu.com/ubuntu jammy/main amd64 libvulkan1 amd64 1.3.204.1-2 [128 kB]\n",
            "Get:2 http://archive.ubuntu.com/ubuntu jammy-updates/main amd64 mesa-vulkan-drivers amd64 23.2.1-1ubuntu3.1~22.04.3 [10.7 MB]\n",
            "Get:3 /content/google-chrome-stable_current_amd64.deb google-chrome-stable amd64 141.0.7390.65-1 [121 MB]\n",
            "Fetched 10.9 MB in 2s (6,345 kB/s)\n",
            "Selecting previously unselected package libvulkan1:amd64.\n",
            "(Reading database ... 126675 files and directories currently installed.)\n",
            "Preparing to unpack .../libvulkan1_1.3.204.1-2_amd64.deb ...\n",
            "Unpacking libvulkan1:amd64 (1.3.204.1-2) ...\n",
            "Selecting previously unselected package google-chrome-stable.\n",
            "Preparing to unpack .../google-chrome-stable_current_amd64.deb ...\n",
            "Unpacking google-chrome-stable (141.0.7390.65-1) ...\n",
            "Selecting previously unselected package mesa-vulkan-drivers:amd64.\n",
            "Preparing to unpack .../mesa-vulkan-drivers_23.2.1-1ubuntu3.1~22.04.3_amd64.deb ...\n",
            "Unpacking mesa-vulkan-drivers:amd64 (23.2.1-1ubuntu3.1~22.04.3) ...\n",
            "Setting up libvulkan1:amd64 (1.3.204.1-2) ...\n",
            "Setting up mesa-vulkan-drivers:amd64 (23.2.1-1ubuntu3.1~22.04.3) ...\n",
            "Setting up google-chrome-stable (141.0.7390.65-1) ...\n",
            "update-alternatives: using /usr/bin/google-chrome-stable to provide /usr/bin/x-www-browser (x-www-browser) in auto mode\n",
            "update-alternatives: using /usr/bin/google-chrome-stable to provide /usr/bin/gnome-www-browser (gnome-www-browser) in auto mode\n",
            "update-alternatives: using /usr/bin/google-chrome-stable to provide /usr/bin/google-chrome (google-chrome) in auto mode\n",
            "Processing triggers for man-db (2.10.2-1) ...\n",
            "Processing triggers for mailcap (3.70+nmu1ubuntu1) ...\n",
            "Processing triggers for libc-bin (2.35-0ubuntu3.8) ...\n",
            "/sbin/ldconfig.real: /usr/local/lib/libtbbmalloc.so.2 is not a symbolic link\n",
            "\n",
            "/sbin/ldconfig.real: /usr/local/lib/libtcm.so.1 is not a symbolic link\n",
            "\n",
            "/sbin/ldconfig.real: /usr/local/lib/libtbbbind_2_5.so.3 is not a symbolic link\n",
            "\n",
            "/sbin/ldconfig.real: /usr/local/lib/libur_adapter_level_zero.so.0 is not a symbolic link\n",
            "\n",
            "/sbin/ldconfig.real: /usr/local/lib/libtbbbind_2_0.so.3 is not a symbolic link\n",
            "\n",
            "/sbin/ldconfig.real: /usr/local/lib/libtbbmalloc_proxy.so.2 is not a symbolic link\n",
            "\n",
            "/sbin/ldconfig.real: /usr/local/lib/libtcm_debug.so.1 is not a symbolic link\n",
            "\n",
            "/sbin/ldconfig.real: /usr/local/lib/libhwloc.so.15 is not a symbolic link\n",
            "\n",
            "/sbin/ldconfig.real: /usr/local/lib/libtbbbind.so.3 is not a symbolic link\n",
            "\n",
            "/sbin/ldconfig.real: /usr/local/lib/libur_adapter_level_zero_v2.so.0 is not a symbolic link\n",
            "\n",
            "/sbin/ldconfig.real: /usr/local/lib/libumf.so.0 is not a symbolic link\n",
            "\n",
            "/sbin/ldconfig.real: /usr/local/lib/libtbb.so.12 is not a symbolic link\n",
            "\n",
            "/sbin/ldconfig.real: /usr/local/lib/libur_adapter_opencl.so.0 is not a symbolic link\n",
            "\n",
            "/sbin/ldconfig.real: /usr/local/lib/libur_loader.so.0 is not a symbolic link\n",
            "\n",
            "Collecting selenium\n",
            "  Downloading selenium-4.36.0-py3-none-any.whl.metadata (7.5 kB)\n",
            "Collecting webdriver_manager\n",
            "  Downloading webdriver_manager-4.0.2-py2.py3-none-any.whl.metadata (12 kB)\n",
            "Requirement already satisfied: urllib3<3.0,>=2.5.0 in /usr/local/lib/python3.12/dist-packages (from urllib3[socks]<3.0,>=2.5.0->selenium) (2.5.0)\n",
            "Collecting trio<1.0,>=0.30.0 (from selenium)\n",
            "  Downloading trio-0.31.0-py3-none-any.whl.metadata (8.5 kB)\n",
            "Collecting trio-websocket<1.0,>=0.12.2 (from selenium)\n",
            "  Downloading trio_websocket-0.12.2-py3-none-any.whl.metadata (5.1 kB)\n",
            "Requirement already satisfied: certifi>=2025.6.15 in /usr/local/lib/python3.12/dist-packages (from selenium) (2025.8.3)\n",
            "Requirement already satisfied: typing_extensions<5.0,>=4.14.0 in /usr/local/lib/python3.12/dist-packages (from selenium) (4.15.0)\n",
            "Requirement already satisfied: websocket-client<2.0,>=1.8.0 in /usr/local/lib/python3.12/dist-packages (from selenium) (1.8.0)\n",
            "Requirement already satisfied: requests in /usr/local/lib/python3.12/dist-packages (from webdriver_manager) (2.32.4)\n",
            "Requirement already satisfied: python-dotenv in /usr/local/lib/python3.12/dist-packages (from webdriver_manager) (1.1.1)\n",
            "Requirement already satisfied: packaging in /usr/local/lib/python3.12/dist-packages (from webdriver_manager) (25.0)\n",
            "Requirement already satisfied: attrs>=23.2.0 in /usr/local/lib/python3.12/dist-packages (from trio<1.0,>=0.30.0->selenium) (25.3.0)\n",
            "Requirement already satisfied: sortedcontainers in /usr/local/lib/python3.12/dist-packages (from trio<1.0,>=0.30.0->selenium) (2.4.0)\n",
            "Requirement already satisfied: idna in /usr/local/lib/python3.12/dist-packages (from trio<1.0,>=0.30.0->selenium) (3.10)\n",
            "Collecting outcome (from trio<1.0,>=0.30.0->selenium)\n",
            "  Downloading outcome-1.3.0.post0-py2.py3-none-any.whl.metadata (2.6 kB)\n",
            "Requirement already satisfied: sniffio>=1.3.0 in /usr/local/lib/python3.12/dist-packages (from trio<1.0,>=0.30.0->selenium) (1.3.1)\n",
            "Collecting wsproto>=0.14 (from trio-websocket<1.0,>=0.12.2->selenium)\n",
            "  Downloading wsproto-1.2.0-py3-none-any.whl.metadata (5.6 kB)\n",
            "Requirement already satisfied: pysocks!=1.5.7,<2.0,>=1.5.6 in /usr/local/lib/python3.12/dist-packages (from urllib3[socks]<3.0,>=2.5.0->selenium) (1.7.1)\n",
            "Requirement already satisfied: charset_normalizer<4,>=2 in /usr/local/lib/python3.12/dist-packages (from requests->webdriver_manager) (3.4.3)\n",
            "Requirement already satisfied: h11<1,>=0.9.0 in /usr/local/lib/python3.12/dist-packages (from wsproto>=0.14->trio-websocket<1.0,>=0.12.2->selenium) (0.16.0)\n",
            "Downloading selenium-4.36.0-py3-none-any.whl (9.6 MB)\n",
            "\u001b[2K   \u001b[90m━━━━━━━━━━━━━━━━━━━━━━━━━━━━━━━━━━━━━━━━\u001b[0m \u001b[32m9.6/9.6 MB\u001b[0m \u001b[31m83.7 MB/s\u001b[0m eta \u001b[36m0:00:00\u001b[0m\n",
            "\u001b[?25hDownloading webdriver_manager-4.0.2-py2.py3-none-any.whl (27 kB)\n",
            "Downloading trio-0.31.0-py3-none-any.whl (512 kB)\n",
            "\u001b[2K   \u001b[90m━━━━━━━━━━━━━━━━━━━━━━━━━━━━━━━━━━━━━━━━\u001b[0m \u001b[32m512.7/512.7 kB\u001b[0m \u001b[31m29.8 MB/s\u001b[0m eta \u001b[36m0:00:00\u001b[0m\n",
            "\u001b[?25hDownloading trio_websocket-0.12.2-py3-none-any.whl (21 kB)\n",
            "Downloading outcome-1.3.0.post0-py2.py3-none-any.whl (10 kB)\n",
            "Downloading wsproto-1.2.0-py3-none-any.whl (24 kB)\n",
            "Installing collected packages: wsproto, outcome, webdriver_manager, trio, trio-websocket, selenium\n",
            "Successfully installed outcome-1.3.0.post0 selenium-4.36.0 trio-0.31.0 trio-websocket-0.12.2 webdriver_manager-4.0.2 wsproto-1.2.0\n"
          ]
        }
      ]
    },
    {
      "cell_type": "code",
      "source": [
        "from selenium import webdriver\n",
        "from selenium.webdriver.chrome.service import Service as ChromeService\n",
        "from webdriver_manager.chrome import ChromeDriverManager\n",
        "from selenium.webdriver.common.by import By\n",
        "from lxml import html\n",
        "import time\n",
        "\n",
        "chrome_options = webdriver.ChromeOptions()\n",
        "chrome_options.add_argument('--headless')               # 브라우저 창 없이 실행\n",
        "chrome_options.add_argument('--no-sandbox')             # 보안모드 비활성화 (Colab 필수)\n",
        "chrome_options.add_argument('--disable-dev-shm-usage')  # 메모리 부족 방지 (Colab 필수)\n",
        "chrome_options.add_argument('--window-size=1920x1080')  # 창 크기 설정(가상)\n",
        "chrome_options.add_argument('--disable-gpu')            # GPU 가속 비활성화 (일부 환경 안정성)\n",
        "chrome_options.binary_location = \"/usr/bin/google-chrome-stable\"  # Colab용 크롬 경로 지정\n",
        "\n",
        "## 드라이버 실행\n",
        "driver = webdriver.Chrome(options=chrome_options)\n",
        "\n",
        "## 사이트 접속\n",
        "url = 'https://professor.knou.ac.kr/jaehwachung/index.do'\n",
        "driver.get(url)\n",
        "\n",
        "## 사이트 접속 대기\n",
        "time.sleep(2)\n",
        "\n",
        "## 페이지 제목 출력\n",
        "page_source = driver.page_source\n",
        "tree = html.fromstring (page_source)\n",
        "title_text = tree.xpath ('//title/text()')\n",
        "print (title_text)\n",
        "## 드라이버 종료\n",
        "driver.quit()"
      ],
      "metadata": {
        "id": "cRC8x3_iW0im",
        "colab": {
          "base_uri": "https://localhost:8080/",
          "height": 405
        },
        "outputId": "1c35a659-1718-422f-df62-a46048d98abe"
      },
      "execution_count": null,
      "outputs": [
        {
          "output_type": "error",
          "ename": "ModuleNotFoundError",
          "evalue": "No module named 'selenium'",
          "traceback": [
            "\u001b[0;31m---------------------------------------------------------------------------\u001b[0m",
            "\u001b[0;31mModuleNotFoundError\u001b[0m                       Traceback (most recent call last)",
            "\u001b[0;32m/tmp/ipython-input-2823381395.py\u001b[0m in \u001b[0;36m<cell line: 0>\u001b[0;34m()\u001b[0m\n\u001b[0;32m----> 1\u001b[0;31m \u001b[0;32mfrom\u001b[0m \u001b[0mselenium\u001b[0m \u001b[0;32mimport\u001b[0m \u001b[0mwebdriver\u001b[0m\u001b[0;34m\u001b[0m\u001b[0;34m\u001b[0m\u001b[0m\n\u001b[0m\u001b[1;32m      2\u001b[0m \u001b[0;32mfrom\u001b[0m \u001b[0mselenium\u001b[0m\u001b[0;34m.\u001b[0m\u001b[0mwebdriver\u001b[0m\u001b[0;34m.\u001b[0m\u001b[0mchrome\u001b[0m\u001b[0;34m.\u001b[0m\u001b[0mservice\u001b[0m \u001b[0;32mimport\u001b[0m \u001b[0mService\u001b[0m \u001b[0;32mas\u001b[0m \u001b[0mChromeService\u001b[0m\u001b[0;34m\u001b[0m\u001b[0;34m\u001b[0m\u001b[0m\n\u001b[1;32m      3\u001b[0m \u001b[0;32mfrom\u001b[0m \u001b[0mwebdriver_manager\u001b[0m\u001b[0;34m.\u001b[0m\u001b[0mchrome\u001b[0m \u001b[0;32mimport\u001b[0m \u001b[0mChromeDriverManager\u001b[0m\u001b[0;34m\u001b[0m\u001b[0;34m\u001b[0m\u001b[0m\n\u001b[1;32m      4\u001b[0m \u001b[0;32mfrom\u001b[0m \u001b[0mselenium\u001b[0m\u001b[0;34m.\u001b[0m\u001b[0mwebdriver\u001b[0m\u001b[0;34m.\u001b[0m\u001b[0mcommon\u001b[0m\u001b[0;34m.\u001b[0m\u001b[0mby\u001b[0m \u001b[0;32mimport\u001b[0m \u001b[0mBy\u001b[0m\u001b[0;34m\u001b[0m\u001b[0;34m\u001b[0m\u001b[0m\n\u001b[1;32m      5\u001b[0m \u001b[0;32mfrom\u001b[0m \u001b[0mlxml\u001b[0m \u001b[0;32mimport\u001b[0m \u001b[0mhtml\u001b[0m\u001b[0;34m\u001b[0m\u001b[0;34m\u001b[0m\u001b[0m\n",
            "\u001b[0;31mModuleNotFoundError\u001b[0m: No module named 'selenium'",
            "",
            "\u001b[0;31m---------------------------------------------------------------------------\u001b[0;32m\nNOTE: If your import is failing due to a missing package, you can\nmanually install dependencies using either !pip or !apt.\n\nTo view examples of installing some common dependencies, click the\n\"Open Examples\" button below.\n\u001b[0;31m---------------------------------------------------------------------------\u001b[0m\n"
          ],
          "errorDetails": {
            "actions": [
              {
                "action": "open_url",
                "actionText": "Open Examples",
                "url": "/notebooks/snippets/importing_libraries.ipynb"
              }
            ]
          }
        }
      ]
    },
    {
      "cell_type": "markdown",
      "source": [
        "\n",
        "# 실습 시나리오"
      ],
      "metadata": {
        "id": "Bu6OMZyGirOq"
      }
    },
    {
      "cell_type": "markdown",
      "source": [
        "## 공공데이터 포털 가입 및 데이터 신청\n",
        "\n",
        "- [https://www.data.go.kr](https://www.data.go.kr)\n",
        "- 한국환경공단 에어코리아 대기오염정보 데이터 신청"
      ],
      "metadata": {
        "id": "nsuqRN9RkZlW"
      }
    },
    {
      "cell_type": "code",
      "source": [
        "import requests\n",
        "import pandas as pd\n",
        "\n",
        "## 데이터 수집 url 및 api key 설정\n",
        "url= 'http://openapi.seoul.go.kr:8088/7843766f7a6d7975363349635a6b65/json/energyUseDataSummaryInfo/1/5/2025/01/'\n",
        "api_key = '7843766f7a6d7975363349635a6b65'\n",
        "\n",
        "year = 2018\n",
        "month = 3\n",
        "type = '개인'\n",
        "\n",
        "params = {\n",
        "    'serviceKey': api_key,\n",
        "    'returnType': 'json'\n",
        "    #'YEAR': \"2018\",\n",
        "    #'MON': \"03\",\n",
        "    #'MM_TYPE': type\n",
        "}\n",
        "\n",
        "API_KEY = \"7843766f7a6d7975363349635a6b65\"\n",
        "SERVICE_NAME = \"energyUseDataSummaryInfo\"  # 회원유형별 통계정보 서비스명\n",
        "REQUEST_TYPE = \"json\"\n",
        "BASE_URL = f\"http://openapi.seoul.go.kr:8088/{API_KEY}/{REQUEST_TYPE}/{SERVICE_NAME}\"\n",
        "MEMBER_TYPE=\"개인\"\n",
        "\n",
        "str_year = str(year)\n",
        "str_month = str(month).zfill(2)\n",
        "\n",
        "url = f\"{BASE_URL}/1/5/{str_year}/{str_month}/\"\n",
        "print (url)\n",
        "\n",
        "## 데이터 수집\n",
        "response = requests.get (url, params=params)\n",
        "\n",
        "## 호출 성공/실패 출력\n",
        "if response.status_code == 200:\n",
        "  print(\"api 호출 성공\")\n",
        "  print(response.json())\n",
        "else:\n",
        "  print(f\"API 호출 실패: {response.status_code}\")\n",
        "\n",
        "\n",
        "#response['날짜'] = f'{year}{month:02d}'  # 날짜형식: 201501\n",
        "\n",
        "# DataFrame 생성\n",
        "data=response.json()['energyUseDataSummaryInfo']['row']\n",
        "df = pd.DataFrame(data)\n",
        "# '날짜' 칼럼을 맨 앞으로 재배치\n",
        "#df.insert(0, '날짜', df.pop('날짜'))\n",
        "df.head(3)\n"
      ],
      "metadata": {
        "id": "7yCozmQeXJcO",
        "colab": {
          "base_uri": "https://localhost:8080/",
          "height": 352
        },
        "outputId": "cacb5e74-acd5-458c-e165-26067a180c31"
      },
      "execution_count": 31,
      "outputs": [
        {
          "output_type": "stream",
          "name": "stdout",
          "text": [
            "http://openapi.seoul.go.kr:8088/7843766f7a6d7975363349635a6b65/json/energyUseDataSummaryInfo/1/5/2018/03/\n",
            "api 호출 성공\n",
            "{'energyUseDataSummaryInfo': {'list_total_count': 7, 'RESULT': {'CODE': 'INFO-000', 'MESSAGE': '정상 처리되었습니다'}, 'row': [{'YEAR': '2018', 'MON': '03', 'MM_TYPE': '소상공인', 'CNT': '26055', 'EUS': '49020790', 'EUS1': '50501786', 'EUS2': '51173059', 'ECO2_1': '-1816632.5', 'ECO2_2': '-770252.18', 'GUS': '3472254', 'GUS1': '3504000', 'GUS2': '3503476', 'GCO2_1': '-31484', 'GCO2_2': '-70524.16', 'WUS': '1105383', 'WUS1': '1075163', 'WUS2': '1069313.6', 'WCO2_1': '33144.7', 'WCO2_2': '11004.0404', 'HUS': '1730.697', 'HUS1': '2100.85', 'HUS2': '2083.087', 'HCO2_1': '-361.2715', 'HCO2_2': '-88.861708', 'REG_DATE': '2018-06-05 04:07:27.0'}, {'YEAR': '2018', 'MON': '03', 'MM_TYPE': '학교', 'CNT': '5504', 'EUS': '139547317', 'EUS1': '140617480', 'EUS2': '137011835', 'ECO2_1': '732659.5', 'ECO2_2': '310647.628', 'GUS': '7375082', 'GUS1': '7414005', 'GUS2': '7285270', 'GCO2_1': '25444.5', 'GCO2_2': '56995.68', 'WUS': '1519286.8', 'WUS1': '1440488', 'WUS2': '1533340.2', 'WCO2_1': '32372.7', 'WCO2_2': '10747.7364', 'HUS': '9254.198', 'HUS1': '11181.43', 'HUS2': '11466.032', 'HCO2_1': '-2069.533', 'HCO2_2': '-5297.419296', 'REG_DATE': '2018-06-05 04:07:27.0'}, {'YEAR': '2018', 'MON': '03', 'MM_TYPE': '종교단체', 'CNT': '624', 'EUS': '5690732', 'EUS1': '5798426', 'EUS2': '5967739', 'ECO2_1': '-192350.5', 'ECO2_2': '-81556.612', 'GUS': '562100', 'GUS1': '514094', 'GUS2': '515786', 'GCO2_1': '47160', 'GCO2_2': '105638.4', 'WUS': '38449', 'WUS1': '38879', 'WUS2': '38272', 'WCO2_1': '-126.5', 'WCO2_2': '-41.998', 'HUS': '0', 'HUS1': '0', 'HUS2': '0', 'HCO2_1': '0', 'HCO2_2': '0', 'REG_DATE': '2018-06-05 04:07:27.0'}, {'YEAR': '2018', 'MON': '03', 'MM_TYPE': '개인', 'CNT': '1002745', 'EUS': '219203768', 'EUS1': '218690413', 'EUS2': '229305227', 'ECO2_1': '-4794224', 'ECO2_2': '-2032750.976', 'GUS': '73426397', 'GUS1': '67463604', 'GUS2': '68285446', 'GCO2_1': '5551872', 'GCO2_2': '12436193.28', 'WUS': '12769174.532', 'WUS1': '12671481.372', 'WUS2': '12990768.46', 'WCO2_1': '-61950.384', 'WCO2_2': '-20567.527488', 'HUS': '10924939.951', 'HUS1': '11894129.83', 'HUS2': '11826133.769', 'HCO2_1': '-935191.8485', 'HCO2_2': '-45955195.960406', 'REG_DATE': '2018-06-05 04:07:27.0'}, {'YEAR': '2018', 'MON': '03', 'MM_TYPE': '공공기관', 'CNT': '2228', 'EUS': '117937837', 'EUS1': '118535912', 'EUS2': '119086497', 'ECO2_1': '-873367.5', 'ECO2_2': '-370307.82', 'GUS': '5512739', 'GUS1': '4677552', 'GUS2': '4594089', 'GCO2_1': '876918.5', 'GCO2_2': '1964297.44', 'WUS': '1173345.8', 'WUS1': '1144022.8', 'WUS2': '1133932.4', 'WCO2_1': '34368.2', 'WCO2_2': '11410.2424', 'HUS': '0', 'HUS1': '0', 'HUS2': '0', 'HCO2_1': '0', 'HCO2_2': '0', 'REG_DATE': '2018-06-05 04:07:27.0'}]}}\n"
          ]
        },
        {
          "output_type": "execute_result",
          "data": {
            "text/plain": [
              "   YEAR MON MM_TYPE    CNT        EUS       EUS1       EUS2      ECO2_1  \\\n",
              "0  2018  03    소상공인  26055   49020790   50501786   51173059  -1816632.5   \n",
              "1  2018  03      학교   5504  139547317  140617480  137011835    732659.5   \n",
              "2  2018  03    종교단체    624    5690732    5798426    5967739   -192350.5   \n",
              "\n",
              "       ECO2_2      GUS  ...     WUS1       WUS2   WCO2_1      WCO2_2  \\\n",
              "0  -770252.18  3472254  ...  1075163  1069313.6  33144.7  11004.0404   \n",
              "1  310647.628  7375082  ...  1440488  1533340.2  32372.7  10747.7364   \n",
              "2  -81556.612   562100  ...    38879      38272   -126.5     -41.998   \n",
              "\n",
              "        HUS      HUS1       HUS2     HCO2_1        HCO2_2  \\\n",
              "0  1730.697   2100.85   2083.087  -361.2715    -88.861708   \n",
              "1  9254.198  11181.43  11466.032  -2069.533  -5297.419296   \n",
              "2         0         0          0          0             0   \n",
              "\n",
              "                REG_DATE  \n",
              "0  2018-06-05 04:07:27.0  \n",
              "1  2018-06-05 04:07:27.0  \n",
              "2  2018-06-05 04:07:27.0  \n",
              "\n",
              "[3 rows x 25 columns]"
            ],
            "text/html": [
              "\n",
              "  <div id=\"df-67629d05-ca8c-474f-87dc-d1e822567f67\" class=\"colab-df-container\">\n",
              "    <div>\n",
              "<style scoped>\n",
              "    .dataframe tbody tr th:only-of-type {\n",
              "        vertical-align: middle;\n",
              "    }\n",
              "\n",
              "    .dataframe tbody tr th {\n",
              "        vertical-align: top;\n",
              "    }\n",
              "\n",
              "    .dataframe thead th {\n",
              "        text-align: right;\n",
              "    }\n",
              "</style>\n",
              "<table border=\"1\" class=\"dataframe\">\n",
              "  <thead>\n",
              "    <tr style=\"text-align: right;\">\n",
              "      <th></th>\n",
              "      <th>YEAR</th>\n",
              "      <th>MON</th>\n",
              "      <th>MM_TYPE</th>\n",
              "      <th>CNT</th>\n",
              "      <th>EUS</th>\n",
              "      <th>EUS1</th>\n",
              "      <th>EUS2</th>\n",
              "      <th>ECO2_1</th>\n",
              "      <th>ECO2_2</th>\n",
              "      <th>GUS</th>\n",
              "      <th>...</th>\n",
              "      <th>WUS1</th>\n",
              "      <th>WUS2</th>\n",
              "      <th>WCO2_1</th>\n",
              "      <th>WCO2_2</th>\n",
              "      <th>HUS</th>\n",
              "      <th>HUS1</th>\n",
              "      <th>HUS2</th>\n",
              "      <th>HCO2_1</th>\n",
              "      <th>HCO2_2</th>\n",
              "      <th>REG_DATE</th>\n",
              "    </tr>\n",
              "  </thead>\n",
              "  <tbody>\n",
              "    <tr>\n",
              "      <th>0</th>\n",
              "      <td>2018</td>\n",
              "      <td>03</td>\n",
              "      <td>소상공인</td>\n",
              "      <td>26055</td>\n",
              "      <td>49020790</td>\n",
              "      <td>50501786</td>\n",
              "      <td>51173059</td>\n",
              "      <td>-1816632.5</td>\n",
              "      <td>-770252.18</td>\n",
              "      <td>3472254</td>\n",
              "      <td>...</td>\n",
              "      <td>1075163</td>\n",
              "      <td>1069313.6</td>\n",
              "      <td>33144.7</td>\n",
              "      <td>11004.0404</td>\n",
              "      <td>1730.697</td>\n",
              "      <td>2100.85</td>\n",
              "      <td>2083.087</td>\n",
              "      <td>-361.2715</td>\n",
              "      <td>-88.861708</td>\n",
              "      <td>2018-06-05 04:07:27.0</td>\n",
              "    </tr>\n",
              "    <tr>\n",
              "      <th>1</th>\n",
              "      <td>2018</td>\n",
              "      <td>03</td>\n",
              "      <td>학교</td>\n",
              "      <td>5504</td>\n",
              "      <td>139547317</td>\n",
              "      <td>140617480</td>\n",
              "      <td>137011835</td>\n",
              "      <td>732659.5</td>\n",
              "      <td>310647.628</td>\n",
              "      <td>7375082</td>\n",
              "      <td>...</td>\n",
              "      <td>1440488</td>\n",
              "      <td>1533340.2</td>\n",
              "      <td>32372.7</td>\n",
              "      <td>10747.7364</td>\n",
              "      <td>9254.198</td>\n",
              "      <td>11181.43</td>\n",
              "      <td>11466.032</td>\n",
              "      <td>-2069.533</td>\n",
              "      <td>-5297.419296</td>\n",
              "      <td>2018-06-05 04:07:27.0</td>\n",
              "    </tr>\n",
              "    <tr>\n",
              "      <th>2</th>\n",
              "      <td>2018</td>\n",
              "      <td>03</td>\n",
              "      <td>종교단체</td>\n",
              "      <td>624</td>\n",
              "      <td>5690732</td>\n",
              "      <td>5798426</td>\n",
              "      <td>5967739</td>\n",
              "      <td>-192350.5</td>\n",
              "      <td>-81556.612</td>\n",
              "      <td>562100</td>\n",
              "      <td>...</td>\n",
              "      <td>38879</td>\n",
              "      <td>38272</td>\n",
              "      <td>-126.5</td>\n",
              "      <td>-41.998</td>\n",
              "      <td>0</td>\n",
              "      <td>0</td>\n",
              "      <td>0</td>\n",
              "      <td>0</td>\n",
              "      <td>0</td>\n",
              "      <td>2018-06-05 04:07:27.0</td>\n",
              "    </tr>\n",
              "  </tbody>\n",
              "</table>\n",
              "<p>3 rows × 25 columns</p>\n",
              "</div>\n",
              "    <div class=\"colab-df-buttons\">\n",
              "\n",
              "  <div class=\"colab-df-container\">\n",
              "    <button class=\"colab-df-convert\" onclick=\"convertToInteractive('df-67629d05-ca8c-474f-87dc-d1e822567f67')\"\n",
              "            title=\"Convert this dataframe to an interactive table.\"\n",
              "            style=\"display:none;\">\n",
              "\n",
              "  <svg xmlns=\"http://www.w3.org/2000/svg\" height=\"24px\" viewBox=\"0 -960 960 960\">\n",
              "    <path d=\"M120-120v-720h720v720H120Zm60-500h600v-160H180v160Zm220 220h160v-160H400v160Zm0 220h160v-160H400v160ZM180-400h160v-160H180v160Zm440 0h160v-160H620v160ZM180-180h160v-160H180v160Zm440 0h160v-160H620v160Z\"/>\n",
              "  </svg>\n",
              "    </button>\n",
              "\n",
              "  <style>\n",
              "    .colab-df-container {\n",
              "      display:flex;\n",
              "      gap: 12px;\n",
              "    }\n",
              "\n",
              "    .colab-df-convert {\n",
              "      background-color: #E8F0FE;\n",
              "      border: none;\n",
              "      border-radius: 50%;\n",
              "      cursor: pointer;\n",
              "      display: none;\n",
              "      fill: #1967D2;\n",
              "      height: 32px;\n",
              "      padding: 0 0 0 0;\n",
              "      width: 32px;\n",
              "    }\n",
              "\n",
              "    .colab-df-convert:hover {\n",
              "      background-color: #E2EBFA;\n",
              "      box-shadow: 0px 1px 2px rgba(60, 64, 67, 0.3), 0px 1px 3px 1px rgba(60, 64, 67, 0.15);\n",
              "      fill: #174EA6;\n",
              "    }\n",
              "\n",
              "    .colab-df-buttons div {\n",
              "      margin-bottom: 4px;\n",
              "    }\n",
              "\n",
              "    [theme=dark] .colab-df-convert {\n",
              "      background-color: #3B4455;\n",
              "      fill: #D2E3FC;\n",
              "    }\n",
              "\n",
              "    [theme=dark] .colab-df-convert:hover {\n",
              "      background-color: #434B5C;\n",
              "      box-shadow: 0px 1px 3px 1px rgba(0, 0, 0, 0.15);\n",
              "      filter: drop-shadow(0px 1px 2px rgba(0, 0, 0, 0.3));\n",
              "      fill: #FFFFFF;\n",
              "    }\n",
              "  </style>\n",
              "\n",
              "    <script>\n",
              "      const buttonEl =\n",
              "        document.querySelector('#df-67629d05-ca8c-474f-87dc-d1e822567f67 button.colab-df-convert');\n",
              "      buttonEl.style.display =\n",
              "        google.colab.kernel.accessAllowed ? 'block' : 'none';\n",
              "\n",
              "      async function convertToInteractive(key) {\n",
              "        const element = document.querySelector('#df-67629d05-ca8c-474f-87dc-d1e822567f67');\n",
              "        const dataTable =\n",
              "          await google.colab.kernel.invokeFunction('convertToInteractive',\n",
              "                                                    [key], {});\n",
              "        if (!dataTable) return;\n",
              "\n",
              "        const docLinkHtml = 'Like what you see? Visit the ' +\n",
              "          '<a target=\"_blank\" href=https://colab.research.google.com/notebooks/data_table.ipynb>data table notebook</a>'\n",
              "          + ' to learn more about interactive tables.';\n",
              "        element.innerHTML = '';\n",
              "        dataTable['output_type'] = 'display_data';\n",
              "        await google.colab.output.renderOutput(dataTable, element);\n",
              "        const docLink = document.createElement('div');\n",
              "        docLink.innerHTML = docLinkHtml;\n",
              "        element.appendChild(docLink);\n",
              "      }\n",
              "    </script>\n",
              "  </div>\n",
              "\n",
              "\n",
              "    <div id=\"df-1e830a3e-4439-4d87-bbb2-b9d4a2dad138\">\n",
              "      <button class=\"colab-df-quickchart\" onclick=\"quickchart('df-1e830a3e-4439-4d87-bbb2-b9d4a2dad138')\"\n",
              "                title=\"Suggest charts\"\n",
              "                style=\"display:none;\">\n",
              "\n",
              "<svg xmlns=\"http://www.w3.org/2000/svg\" height=\"24px\"viewBox=\"0 0 24 24\"\n",
              "     width=\"24px\">\n",
              "    <g>\n",
              "        <path d=\"M19 3H5c-1.1 0-2 .9-2 2v14c0 1.1.9 2 2 2h14c1.1 0 2-.9 2-2V5c0-1.1-.9-2-2-2zM9 17H7v-7h2v7zm4 0h-2V7h2v10zm4 0h-2v-4h2v4z\"/>\n",
              "    </g>\n",
              "</svg>\n",
              "      </button>\n",
              "\n",
              "<style>\n",
              "  .colab-df-quickchart {\n",
              "      --bg-color: #E8F0FE;\n",
              "      --fill-color: #1967D2;\n",
              "      --hover-bg-color: #E2EBFA;\n",
              "      --hover-fill-color: #174EA6;\n",
              "      --disabled-fill-color: #AAA;\n",
              "      --disabled-bg-color: #DDD;\n",
              "  }\n",
              "\n",
              "  [theme=dark] .colab-df-quickchart {\n",
              "      --bg-color: #3B4455;\n",
              "      --fill-color: #D2E3FC;\n",
              "      --hover-bg-color: #434B5C;\n",
              "      --hover-fill-color: #FFFFFF;\n",
              "      --disabled-bg-color: #3B4455;\n",
              "      --disabled-fill-color: #666;\n",
              "  }\n",
              "\n",
              "  .colab-df-quickchart {\n",
              "    background-color: var(--bg-color);\n",
              "    border: none;\n",
              "    border-radius: 50%;\n",
              "    cursor: pointer;\n",
              "    display: none;\n",
              "    fill: var(--fill-color);\n",
              "    height: 32px;\n",
              "    padding: 0;\n",
              "    width: 32px;\n",
              "  }\n",
              "\n",
              "  .colab-df-quickchart:hover {\n",
              "    background-color: var(--hover-bg-color);\n",
              "    box-shadow: 0 1px 2px rgba(60, 64, 67, 0.3), 0 1px 3px 1px rgba(60, 64, 67, 0.15);\n",
              "    fill: var(--button-hover-fill-color);\n",
              "  }\n",
              "\n",
              "  .colab-df-quickchart-complete:disabled,\n",
              "  .colab-df-quickchart-complete:disabled:hover {\n",
              "    background-color: var(--disabled-bg-color);\n",
              "    fill: var(--disabled-fill-color);\n",
              "    box-shadow: none;\n",
              "  }\n",
              "\n",
              "  .colab-df-spinner {\n",
              "    border: 2px solid var(--fill-color);\n",
              "    border-color: transparent;\n",
              "    border-bottom-color: var(--fill-color);\n",
              "    animation:\n",
              "      spin 1s steps(1) infinite;\n",
              "  }\n",
              "\n",
              "  @keyframes spin {\n",
              "    0% {\n",
              "      border-color: transparent;\n",
              "      border-bottom-color: var(--fill-color);\n",
              "      border-left-color: var(--fill-color);\n",
              "    }\n",
              "    20% {\n",
              "      border-color: transparent;\n",
              "      border-left-color: var(--fill-color);\n",
              "      border-top-color: var(--fill-color);\n",
              "    }\n",
              "    30% {\n",
              "      border-color: transparent;\n",
              "      border-left-color: var(--fill-color);\n",
              "      border-top-color: var(--fill-color);\n",
              "      border-right-color: var(--fill-color);\n",
              "    }\n",
              "    40% {\n",
              "      border-color: transparent;\n",
              "      border-right-color: var(--fill-color);\n",
              "      border-top-color: var(--fill-color);\n",
              "    }\n",
              "    60% {\n",
              "      border-color: transparent;\n",
              "      border-right-color: var(--fill-color);\n",
              "    }\n",
              "    80% {\n",
              "      border-color: transparent;\n",
              "      border-right-color: var(--fill-color);\n",
              "      border-bottom-color: var(--fill-color);\n",
              "    }\n",
              "    90% {\n",
              "      border-color: transparent;\n",
              "      border-bottom-color: var(--fill-color);\n",
              "    }\n",
              "  }\n",
              "</style>\n",
              "\n",
              "      <script>\n",
              "        async function quickchart(key) {\n",
              "          const quickchartButtonEl =\n",
              "            document.querySelector('#' + key + ' button');\n",
              "          quickchartButtonEl.disabled = true;  // To prevent multiple clicks.\n",
              "          quickchartButtonEl.classList.add('colab-df-spinner');\n",
              "          try {\n",
              "            const charts = await google.colab.kernel.invokeFunction(\n",
              "                'suggestCharts', [key], {});\n",
              "          } catch (error) {\n",
              "            console.error('Error during call to suggestCharts:', error);\n",
              "          }\n",
              "          quickchartButtonEl.classList.remove('colab-df-spinner');\n",
              "          quickchartButtonEl.classList.add('colab-df-quickchart-complete');\n",
              "        }\n",
              "        (() => {\n",
              "          let quickchartButtonEl =\n",
              "            document.querySelector('#df-1e830a3e-4439-4d87-bbb2-b9d4a2dad138 button');\n",
              "          quickchartButtonEl.style.display =\n",
              "            google.colab.kernel.accessAllowed ? 'block' : 'none';\n",
              "        })();\n",
              "      </script>\n",
              "    </div>\n",
              "\n",
              "    </div>\n",
              "  </div>\n"
            ],
            "application/vnd.google.colaboratory.intrinsic+json": {
              "type": "dataframe",
              "variable_name": "df"
            }
          },
          "metadata": {},
          "execution_count": 31
        }
      ]
    },
    {
      "cell_type": "code",
      "source": [
        "import requests\n",
        "import pandas as pd\n",
        "import time\n",
        "from tqdm import tqdm\n",
        "\n",
        "# 발급받은 인증키를 입력하세요.\n",
        "API_KEY = \"7843766f7a6d7975363349635a6b65\"\n",
        "\n",
        "# API 정보 설정\n",
        "SERVICE_NAME = \"energyUseDataSummaryInfo\"  # 회원유형별 통계정보 서비스명\n",
        "REQUEST_TYPE = \"json\"\n",
        "BASE_URL = f\"http://openapi.seoul.go.kr:8088/{API_KEY}/{REQUEST_TYPE}/{SERVICE_NAME}\"\n",
        "\n",
        "# 수집할 기간 설정\n",
        "start_year = 2015\n",
        "end_year = 2024\n",
        "\n",
        "# 수집된 데이터를 저장할 리스트\n",
        "all_data = []\n",
        "\n",
        "# 개인 유형 데이터만 필터링하기 위한 회원유형 코드 (01: 개인)\n",
        "\n",
        "print(\"데이터 수집을 시작합니다...\")\n",
        "\n",
        "for year in tqdm(range(start_year, end_year + 1), desc=\"연도별 데이터 수집\"):\n",
        "    for month in range(1, 13):\n",
        "        # YYYY, MM 포맷으로 년도와 월을 문자열로 변환\n",
        "        str_year = str(year)\n",
        "        str_month = str(month).zfill(2)\n",
        "\n",
        "        # 요청 파라미터 조합 (회원유형, 년도, 월)\n",
        "        # 1-1000은 한 번에 가져올 데이터의 범위를 지정합니다. API의 최대 요청 건수에 따라 조절이 필요합니다.\n",
        "        url = f\"{BASE_URL}/1/5/{MEMBER_TYPE}/{str_year}/{str_month}/\"\n",
        "\n",
        "        try:\n",
        "            response = requests.get(url, timeout=10)\n",
        "            response.raise_for_status()  # HTTP 오류 발생 시 예외 발생\n",
        "            data = response.json()\n",
        "\n",
        "            if SERVICE_NAME in data:\n",
        "                result = data[SERVICE_NAME]\n",
        "                if 'row' in result:\n",
        "                    rows = result['row']\n",
        "                    for row in rows:\n",
        "                        all_data.append(row)\n",
        "                else:\n",
        "                    # 해당 월에 데이터가 없을 경우\n",
        "                    print(f\"[{str_year}-{str_month}] 데이터가 없습니다.\")\n",
        "            else:\n",
        "                # API 응답 구조가 예상과 다를 경우\n",
        "                print(f\"[{str_year}-{str_month}] API 응답이 올바르지 않습니다: {data}\")\n",
        "\n",
        "        except requests.exceptions.RequestException as e:\n",
        "            print(f\"[{str_year}-{str_month}] API 호출 중 오류 발생: {e}\")\n",
        "        except Exception as e:\n",
        "            print(f\"[{str_year}-{str_month}] 데이터 처리 중 오류 발생: {e}\")\n",
        "\n",
        "        # API 호출 제한 방지를 위해 1초 대기\n",
        "        time.sleep(1)\n",
        "\n",
        "# 수집된 데이터를 데이터프레임으로 변환\n",
        "if all_data:\n",
        "    df = pd.DataFrame(all_data)\n",
        "\n",
        "    # 데이터를 CSV 파일로 저장\n",
        "    output_filename = f\"ecomileage_individual_energy_usage_{start_year}_{end_year}.csv\"\n",
        "    df.to_csv(output_filename, index=False, encoding='utf-8-sig')\n",
        "\n",
        "    print(f\"\\n총 {len(df)}건의 데이터를 수집하여 '{output_filename}' 파일로 저장했습니다.\")\n",
        "else:\n",
        "    print(\"\\n수집된 데이터가 없습니다. API 키 및 설정 정보를 확인하세요.\")\n"
      ],
      "metadata": {
        "id": "zYcQziQEpwIu",
        "outputId": "95b42304-4fe8-4737-8380-17a015a5fb05",
        "colab": {
          "base_uri": "https://localhost:8080/",
          "height": 351
        }
      },
      "execution_count": null,
      "outputs": [
        {
          "output_type": "stream",
          "name": "stdout",
          "text": [
            "데이터 수집을 시작합니다...\n"
          ]
        },
        {
          "output_type": "stream",
          "name": "stderr",
          "text": [
            "\r연도별 데이터 수집:   0%|          | 0/10 [00:00<?, ?it/s]"
          ]
        },
        {
          "output_type": "stream",
          "name": "stdout",
          "text": [
            "[2015-01] API 응답이 올바르지 않습니다: {'RESULT': {'CODE': 'INFO-200', 'MESSAGE': '해당하는 데이터가 없습니다.'}}\n",
            "[2015-02] API 응답이 올바르지 않습니다: {'RESULT': {'CODE': 'INFO-200', 'MESSAGE': '해당하는 데이터가 없습니다.'}}\n",
            "[2015-03] API 응답이 올바르지 않습니다: {'RESULT': {'CODE': 'INFO-200', 'MESSAGE': '해당하는 데이터가 없습니다.'}}\n",
            "[2015-04] API 응답이 올바르지 않습니다: {'RESULT': {'CODE': 'INFO-200', 'MESSAGE': '해당하는 데이터가 없습니다.'}}\n"
          ]
        },
        {
          "output_type": "stream",
          "name": "stderr",
          "text": [
            "\r연도별 데이터 수집:   0%|          | 0/10 [00:06<?, ?it/s]\n"
          ]
        },
        {
          "output_type": "error",
          "ename": "KeyboardInterrupt",
          "evalue": "",
          "traceback": [
            "\u001b[0;31m---------------------------------------------------------------------------\u001b[0m",
            "\u001b[0;31mKeyboardInterrupt\u001b[0m                         Traceback (most recent call last)",
            "\u001b[0;32m/tmp/ipython-input-2043490629.py\u001b[0m in \u001b[0;36m<cell line: 0>\u001b[0;34m()\u001b[0m\n\u001b[1;32m     57\u001b[0m \u001b[0;34m\u001b[0m\u001b[0m\n\u001b[1;32m     58\u001b[0m         \u001b[0;31m# API 호출 제한 방지를 위해 1초 대기\u001b[0m\u001b[0;34m\u001b[0m\u001b[0;34m\u001b[0m\u001b[0m\n\u001b[0;32m---> 59\u001b[0;31m         \u001b[0mtime\u001b[0m\u001b[0;34m.\u001b[0m\u001b[0msleep\u001b[0m\u001b[0;34m(\u001b[0m\u001b[0;36m1\u001b[0m\u001b[0;34m)\u001b[0m\u001b[0;34m\u001b[0m\u001b[0;34m\u001b[0m\u001b[0m\n\u001b[0m\u001b[1;32m     60\u001b[0m \u001b[0;34m\u001b[0m\u001b[0m\n\u001b[1;32m     61\u001b[0m \u001b[0;31m# 수집된 데이터를 데이터프레임으로 변환\u001b[0m\u001b[0;34m\u001b[0m\u001b[0;34m\u001b[0m\u001b[0m\n",
            "\u001b[0;31mKeyboardInterrupt\u001b[0m: "
          ]
        }
      ]
    }
  ]
}